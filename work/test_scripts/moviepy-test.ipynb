{
 "cells": [
  {
   "cell_type": "code",
   "execution_count": 8,
   "metadata": {},
   "outputs": [
    {
     "name": "stdout",
     "output_type": "stream",
     "text": [
      "Moviepy - Building video ../../data/my-data/outputs/random_edit3.mp4.\n",
      "MoviePy - Writing audio in random_edit3TEMP_MPY_wvf_snd.mp3\n"
     ]
    },
    {
     "name": "stderr",
     "output_type": "stream",
     "text": [
      "                                                                     \r"
     ]
    },
    {
     "name": "stdout",
     "output_type": "stream",
     "text": [
      "MoviePy - Done.\n",
      "Moviepy - Writing video ../../data/my-data/outputs/random_edit3.mp4\n",
      "\n"
     ]
    },
    {
     "name": "stderr",
     "output_type": "stream",
     "text": [
      "                                                                 \r"
     ]
    },
    {
     "name": "stdout",
     "output_type": "stream",
     "text": [
      "Moviepy - Done !\n",
      "Moviepy - video ready ../../data/my-data/outputs/random_edit3.mp4\n"
     ]
    }
   ],
   "source": [
    "import random\n",
    "import sys\n",
    "import os\n",
    "from moviepy.editor import VideoFileClip, concatenate_videoclips\n",
    "\n",
    "INPUT_DIR  = \"../../data/my-data/\" \n",
    "OUTPUT_DIR = \"../../data/my-data/outputs/\"\n",
    "\n",
    "sys.path.append('../')\n",
    "from animatools import animaimg, animavid, animahelpers\n",
    "\n",
    "\n",
    "def video_randomizer(video_path, duration=240, max_clip_duration=5.0):\n",
    "    \n",
    "    clip = VideoFileClip(video_path)\n",
    "    out_array = []\n",
    "    current_duration = 0.0\n",
    "    \n",
    "    while True:\n",
    "        \n",
    "        start = random.uniform(0.0, clip.duration - 2.0)\n",
    "        end   = min(clip.duration, start + random.uniform(0.0, max_clip_duration))\n",
    "        current_duration = current_duration + end - start\n",
    "        \n",
    "        sub_clip = clip.subclip(start, end)\n",
    "        out_array.append(sub_clip)\n",
    "        \n",
    "        if current_duration > duration:\n",
    "            break\n",
    "\n",
    "    final_clip = concatenate_videoclips(out_array)\n",
    "    return final_clip\n",
    "\n",
    "# Example usage\n",
    "input_path = INPUT_DIR + \"short-inspo.mp4\"\n",
    "random_video = video_randomizer(input_path, duration=240, max_clip_duration=7.0)\n",
    "\n",
    "next_filename = animahelpers.generate_next_filename(OUTPUT_DIR + \"random_edit\", \".mp4\")\n",
    "random_video.write_videofile(next_filename, codec=\"libx264\")"
   ]
  }
 ],
 "metadata": {
  "kernelspec": {
   "display_name": "animapy",
   "language": "python",
   "name": "python3"
  },
  "language_info": {
   "codemirror_mode": {
    "name": "ipython",
    "version": 3
   },
   "file_extension": ".py",
   "mimetype": "text/x-python",
   "name": "python",
   "nbconvert_exporter": "python",
   "pygments_lexer": "ipython3",
   "version": "3.9.18"
  }
 },
 "nbformat": 4,
 "nbformat_minor": 2
}
