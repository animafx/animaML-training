{
 "cells": [
  {
   "cell_type": "code",
   "execution_count": 1,
   "metadata": {},
   "outputs": [],
   "source": [
    "import os\n",
    "import sys\n",
    "import cv2\n",
    "import numpy as np\n",
    "import matplotlib.pyplot as plt\n",
    "\n",
    "sys.path.append('../')\n",
    "from animatools import animaimg, animavid, animahelpers\n"
   ]
  },
  {
   "cell_type": "code",
   "execution_count": 2,
   "metadata": {},
   "outputs": [
    {
     "name": "stdout",
     "output_type": "stream",
     "text": [
      "\n",
      "Loading Video: ../../data/my-data/spoon/comp.mp4 , Crop:  True , Scale:  512\n",
      "Input Shape:   (50, 1080, 1920, 3)\n",
      "Output Shape:  (50, 512, 512, 3)\n",
      "\n",
      "Saving Video To:  ../../data/my-data/cycles_render_comp.mp4\n",
      "Done!\n"
     ]
    }
   ],
   "source": [
    "video_path = '../../data/my-data/spoon/comp.mp4'\n",
    "video_array = animavid.load_video_to_np(video_path, crop=True, scale=512)\n",
    "animavid.save_video('../../data/my-data/cycles_render_comp.mp4', video_array)\n",
    "\n",
    "# switched = video_array[4]\n",
    "# seq_path = '../../data/my-data/raster_render'\n",
    "# seq_array = animavid.load_seq_to_np(seq_path, crop=True)\n",
    "\n",
    "# plt.imshow(seq_array[4])\n",
    "# print(video_array.shape)\n",
    "# print(seq_array.shape)"
   ]
  },
  {
   "cell_type": "code",
   "execution_count": 3,
   "metadata": {},
   "outputs": [
    {
     "ename": "NameError",
     "evalue": "name 'seq_array' is not defined",
     "output_type": "error",
     "traceback": [
      "\u001b[0;31m---------------------------------------------------------------------------\u001b[0m",
      "\u001b[0;31mNameError\u001b[0m                                 Traceback (most recent call last)",
      "Cell \u001b[0;32mIn[3], line 3\u001b[0m\n\u001b[1;32m      1\u001b[0m \u001b[38;5;66;03m# reshaped_video = np.transpose(video_array, (0, 1, 2, 3))\u001b[39;00m\n\u001b[1;32m      2\u001b[0m \u001b[38;5;66;03m# display_video(reshaped_video)\u001b[39;00m\n\u001b[0;32m----> 3\u001b[0m red_mask \u001b[38;5;241m=\u001b[39m animavid\u001b[38;5;241m.\u001b[39mmask_alpha_red(\u001b[43mseq_array\u001b[49m)\n\u001b[1;32m      4\u001b[0m \u001b[38;5;66;03m# base_filename = '../data/my-data/outputs/output'\u001b[39;00m\n\u001b[1;32m      5\u001b[0m \u001b[38;5;66;03m# next_filename = animahelpers.generate_next_filename(base_filename, extension='.mp4')\u001b[39;00m\n\u001b[1;32m      6\u001b[0m \u001b[38;5;66;03m# animavid.save_video(\"../../data/my-data/raster_square_mask.mp4\", video_array)\u001b[39;00m\n\u001b[1;32m      7\u001b[0m animavid\u001b[38;5;241m.\u001b[39msave_video(\u001b[38;5;124m\"\u001b[39m\u001b[38;5;124m../../data/my-data/raster_square_mask.mp4\u001b[39m\u001b[38;5;124m\"\u001b[39m, red_mask)\n",
      "\u001b[0;31mNameError\u001b[0m: name 'seq_array' is not defined"
     ]
    }
   ],
   "source": [
    "# reshaped_video = np.transpose(video_array, (0, 1, 2, 3))\n",
    "# display_video(reshaped_video)\n",
    "red_mask = animavid.mask_alpha_red(seq_array)\n",
    "# base_filename = '../data/my-data/outputs/output'\n",
    "# next_filename = animahelpers.generate_next_filename(base_filename, extension='.mp4')\n",
    "# animavid.save_video(\"../../data/my-data/raster_square_mask.mp4\", video_array)\n",
    "animavid.save_video(\"../../data/my-data/raster_square_mask.mp4\", red_mask)"
   ]
  },
  {
   "cell_type": "code",
   "execution_count": 2,
   "metadata": {},
   "outputs": [
    {
     "name": "stdout",
     "output_type": "stream",
     "text": [
      "\n",
      "Loading Sequence: ../../data/my-data/spoon/raster_render , Crop:  True , Scale:  512\n",
      "Input Shape:   (96, 1080, 1920, 4)\n",
      "Unable to read file: .DS_Store\n",
      "Output Shape:  (96, 512, 512, 4)\n",
      "\n",
      "Loading Video: ../../data/my-data/spoon/IMG_3545.MOV , Crop:  True , Scale:  512\n",
      "Input Shape:   (166, 1080, 1920, 3)\n",
      "Output Shape:  (166, 512, 512, 3)\n",
      "(96, 512, 512, 4)\n",
      "(96, 512, 512, 3)\n",
      "\n",
      "Flattening Alpha Mask to Red Mask\n",
      "Input Shape:   (96, 512, 512, 4)\n",
      "Output Shape:  (96, 512, 512, 3)\n",
      "(96, 512, 512, 3)\n",
      "(96, 512, 512, 3)\n",
      "\n",
      "Saving Video To:  ../../data/my-data/spoon/comp2.mp4\n",
      "Done!\n",
      "\n",
      "Saving Video To:  ../../data/my-data/spoon/mask2.mp4\n",
      "Done!\n"
     ]
    }
   ],
   "source": [
    "fg_seq_path = '../../data/my-data/spoon/raster_render'\n",
    "bg_vid_path = '../../data/my-data/spoon/IMG_3545.MOV'\n",
    "\n",
    "comp, mask = animavid.from_seq_comp_mask(fg_seq_path, bg_vid_path, '../../data/my-data/spoon/', crop=True, scale=512)"
   ]
  },
  {
   "cell_type": "code",
   "execution_count": null,
   "metadata": {},
   "outputs": [],
   "source": []
  }
 ],
 "metadata": {
  "kernelspec": {
   "display_name": "temporal",
   "language": "python",
   "name": "python3"
  },
  "language_info": {
   "codemirror_mode": {
    "name": "ipython",
    "version": 3
   },
   "file_extension": ".py",
   "mimetype": "text/x-python",
   "name": "python",
   "nbconvert_exporter": "python",
   "pygments_lexer": "ipython3",
   "version": "3.9.18"
  }
 },
 "nbformat": 4,
 "nbformat_minor": 2
}
