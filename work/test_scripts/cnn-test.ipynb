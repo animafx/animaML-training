{
 "cells": [
  {
   "cell_type": "markdown",
   "metadata": {},
   "source": [
    "# Image Classification CNN"
   ]
  },
  {
   "cell_type": "markdown",
   "metadata": {},
   "source": [
    "Imports"
   ]
  },
  {
   "cell_type": "code",
   "execution_count": 1,
   "metadata": {},
   "outputs": [],
   "source": [
    "import torch\n",
    "import torch.nn as nn\n",
    "import torch.nn.functional as F\n",
    "import torchvision\n",
    "import torchvision.transforms as transforms\n",
    "import matplotlib.pyplot as plt\n",
    "import numpy as np\n",
    "from PIL import Image"
   ]
  },
  {
   "cell_type": "markdown",
   "metadata": {},
   "source": [
    "Device Configuration and Hyper-Parameters"
   ]
  },
  {
   "cell_type": "code",
   "execution_count": 2,
   "metadata": {},
   "outputs": [],
   "source": [
    "device = torch.device('cuda' if torch.cuda.is_available() else 'cpu')\n",
    "\n",
    "num_epochs = 4\n",
    "batch_size = 4\n",
    "learning_rate = 0.001"
   ]
  },
  {
   "cell_type": "markdown",
   "metadata": {},
   "source": [
    "Defining Transform from image space and Loading in CIFAR10 Datasets"
   ]
  },
  {
   "cell_type": "code",
   "execution_count": 3,
   "metadata": {},
   "outputs": [
    {
     "name": "stdout",
     "output_type": "stream",
     "text": [
      "Files already downloaded and verified\n",
      "Files already downloaded and verified\n"
     ]
    }
   ],
   "source": [
    "# Define transform that converts image to tensor \n",
    "# then normalizes it to range [-1, 1]\n",
    "transform = transforms.Compose(\n",
    "    [\n",
    "        transforms.ToTensor(),\n",
    "        transforms.Normalize((0.5, 0.5, 0.5), (0.5, 0.5, 0.5))\n",
    "    ]\n",
    ")\n",
    "\n",
    "# load CIFAR10 train and test datasets\n",
    "train_dataset = torchvision.datasets.CIFAR10(root='./data', \n",
    "                                             train=True, download=True, transform=transform)\n",
    "\n",
    "test_dataset = torchvision.datasets.CIFAR10(root='./data', \n",
    "                                            train=False, download=True, transform=transform)\n",
    "\n",
    "train_loader = torch.utils.data.DataLoader(train_dataset, \n",
    "                                           batch_size=batch_size, shuffle=True)\n",
    "\n",
    "test_loader = torch.utils.data.DataLoader(test_dataset, \n",
    "                                          batch_size=batch_size, shuffle=False)\n",
    "\n",
    "classes = ('plane', 'car', 'bird', 'cat', 'deer', 'dog', 'frog', 'horse', 'ship', 'truck')"
   ]
  },
  {
   "cell_type": "markdown",
   "metadata": {},
   "source": [
    "Defining CNN"
   ]
  },
  {
   "cell_type": "code",
   "execution_count": 4,
   "metadata": {},
   "outputs": [],
   "source": [
    "class ConvNet(nn.Module):\n",
    "    \n",
    "    # Defining Architecture of CNN\n",
    "    def __init__(self):\n",
    "        super(ConvNet, self).__init__()\n",
    "        # First Convolutional Layer and 2x2 Max Pooling\n",
    "        # (3, 6, 5) = (3 Input RGB Channels, \n",
    "        # 6 Output Channels (# of filters applied to image)), \n",
    "        # 5x5 Kernel Size)\n",
    "        self.conv1 = nn.Conv2d(3, 6, 5)\n",
    "        self.pool = nn.MaxPool2d(2, 2)\n",
    "        # Second Convolutional Layer and 2x2 Max Pooling\n",
    "        # (6, 16, 5) = (6 Input Channels, \n",
    "        # 16 Output Channels (# of filters applied to image)), \n",
    "        # 5x5 Kernel Size)\n",
    "        self.conv2 = nn.Conv2d(6, 16, 5)\n",
    "        # Fully connected layers for classification\n",
    "        # First fully connected layer gets the pooled output of the second convolutional layer\n",
    "        # flattened output is (16 * 5 * 5)\n",
    "        self.fc1 = nn.Linear(16 * 5 * 5, 120)\n",
    "        self.fc2 = nn.Linear(120, 84)\n",
    "        # Output of last fully connected layer is 10 (number of classes)\n",
    "        self.fc3 = nn.Linear(84, 10)\n",
    "\n",
    "    # Defining forward pass on input x\n",
    "    def forward(self, x):\n",
    "        # Passing through first convolutional layer and ReLU activation function then pooling\n",
    "        x = self.pool(F.relu(self.conv1(x)))\n",
    "        # Passing through second convolutional layer and ReLU activation function then pooling\n",
    "        x = self.pool(F.relu(self.conv2(x)))\n",
    "        # Flattening output of convolutional layer to 1D tensor\n",
    "        #  -1 = batch size, 16 * 5 * 5 = flattened output size\n",
    "        x = x.view(-1, 16 * 5 * 5)\n",
    "        # Passing to 1st Fully connected layer and Relu\n",
    "        x = F.relu(self.fc1(x))\n",
    "        # Passing to 2nd Fully connected layer and Relu\n",
    "        x = F.relu(self.fc2(x))\n",
    "        # Passing to final Fully connected layer no Relu or softmax (done in loss function)\n",
    "        x = self.fc3(x)\n",
    "        \n",
    "        return x\n",
    "        "
   ]
  },
  {
   "cell_type": "markdown",
   "metadata": {},
   "source": [
    "Declaring CNN Instance and Training Loop"
   ]
  },
  {
   "cell_type": "code",
   "execution_count": 5,
   "metadata": {},
   "outputs": [
    {
     "name": "stdout",
     "output_type": "stream",
     "text": [
      "Epoch [1/4], Step [2000/12500], Loss: 2.3169\n",
      "Epoch [1/4], Step [4000/12500], Loss: 2.3105\n",
      "Epoch [1/4], Step [6000/12500], Loss: 2.2887\n",
      "Epoch [1/4], Step [8000/12500], Loss: 2.3095\n",
      "Epoch [1/4], Step [10000/12500], Loss: 2.2967\n",
      "Epoch [1/4], Step [12000/12500], Loss: 2.2790\n",
      "Epoch [2/4], Step [2000/12500], Loss: 2.0645\n",
      "Epoch [2/4], Step [4000/12500], Loss: 1.7463\n",
      "Epoch [2/4], Step [6000/12500], Loss: 2.0743\n",
      "Epoch [2/4], Step [8000/12500], Loss: 2.0387\n",
      "Epoch [2/4], Step [10000/12500], Loss: 2.1045\n",
      "Epoch [2/4], Step [12000/12500], Loss: 1.7326\n",
      "Epoch [3/4], Step [2000/12500], Loss: 1.6991\n",
      "Epoch [3/4], Step [4000/12500], Loss: 2.1486\n",
      "Epoch [3/4], Step [6000/12500], Loss: 1.7564\n",
      "Epoch [3/4], Step [8000/12500], Loss: 1.4739\n",
      "Epoch [3/4], Step [10000/12500], Loss: 1.2541\n",
      "Epoch [3/4], Step [12000/12500], Loss: 1.4238\n",
      "Epoch [4/4], Step [2000/12500], Loss: 1.2920\n",
      "Epoch [4/4], Step [4000/12500], Loss: 1.9099\n",
      "Epoch [4/4], Step [6000/12500], Loss: 1.3822\n",
      "Epoch [4/4], Step [8000/12500], Loss: 1.2982\n",
      "Epoch [4/4], Step [10000/12500], Loss: 1.6462\n",
      "Epoch [4/4], Step [12000/12500], Loss: 0.4732\n",
      "Finished Training\n"
     ]
    }
   ],
   "source": [
    "# Declaring CNN model and moving it to GPU\n",
    "model = ConvNet().to(device)\n",
    "# Defining loss function criterion and optimizer model (Stochastic Gradient Descent)\n",
    "criterion = nn.CrossEntropyLoss()\n",
    "optimizer = torch.optim.SGD(model.parameters(), lr=learning_rate)\n",
    "# Defining total # of batches in training set as one epoch\n",
    "n_total_steps = len(train_loader)\n",
    "\n",
    "# Iterating over epochs\n",
    "for epoch in range(num_epochs):\n",
    "    # Iterates through the training dataset and assigns each batch to a tuple (images, labels)\n",
    "    for i, (images, labels) in enumerate(train_loader):\n",
    "        #  Original Shape: [4, 3, 32, 32] (4 images, 3 RGB channels, 32x32 pixels)\n",
    "        images = images.to(device)\n",
    "        labels = labels.to(device)\n",
    "        # Forward Pass\n",
    "        outputs = model(images)\n",
    "        loss = criterion(outputs, labels)\n",
    "        # Backwards and Optimization Pass\n",
    "        optimizer.zero_grad()\n",
    "        loss.backward()\n",
    "        optimizer.step()\n",
    "        \n",
    "        if (i+1) % 2000 == 0:\n",
    "            print(f'Epoch [{epoch+1}/{num_epochs}], Step [{i+1}/{n_total_steps}], Loss: {loss.item():.4f}')\n",
    "        \n",
    "print('Finished Training')\n",
    "# torch.save(model.state_dict(), 'cnn-model.pth')\n",
    "# print('Saved PyTorch Model State to cnn-model.pth')"
   ]
  },
  {
   "cell_type": "markdown",
   "metadata": {},
   "source": [
    "Evaluating CNN accuracy"
   ]
  },
  {
   "cell_type": "code",
   "execution_count": 6,
   "metadata": {},
   "outputs": [
    {
     "name": "stdout",
     "output_type": "stream",
     "text": [
      "Accuracy of the network: 46.32 %\n",
      "Accuracy of plane: 50.2 %\n",
      "Accuracy of car: 76.5 %\n",
      "Accuracy of bird: 23.2 %\n",
      "Accuracy of cat: 20.7 %\n",
      "Accuracy of deer: 30.4 %\n",
      "Accuracy of dog: 47.1 %\n",
      "Accuracy of frog: 59.6 %\n",
      "Accuracy of horse: 59.2 %\n",
      "Accuracy of ship: 56.8 %\n",
      "Accuracy of truck: 39.5 %\n"
     ]
    }
   ],
   "source": [
    "with torch.no_grad():\n",
    "    # Defining accuracy counters\n",
    "    n_correct = 0\n",
    "    n_samples = 0\n",
    "    n_class_correct = [0 for i in range(10)]\n",
    "    n_class_samples = [0 for i in range(10)]\n",
    "    # Iterating over test batches\n",
    "    for images, labels in test_loader:\n",
    "        # Loading images and labels to GPU\n",
    "        images = images.to(device)\n",
    "        labels = labels.to(device)\n",
    "        # Running forward pass on images\n",
    "        outputs = model(images)\n",
    "        # Finding Total Accuracy\n",
    "        _, predicted = torch.max(outputs, 1)\n",
    "        n_samples += labels.size(0)\n",
    "        n_correct += (predicted == labels).sum().item()\n",
    "        # Finding Classwise Accuracy\n",
    "        for i in range(batch_size):\n",
    "            label = labels[i]\n",
    "            pred = predicted[i]\n",
    "            if (label == pred):\n",
    "                n_class_correct[label] += 1\n",
    "            n_class_samples[label] += 1\n",
    "    \n",
    "    acc = 100.0 * n_correct / n_samples\n",
    "    print(f'Accuracy of the network: {acc} %')\n",
    "    \n",
    "    for i in range(10):\n",
    "        acc = 100.0 * n_class_correct[i] / n_class_samples[i]\n",
    "        print(f'Accuracy of {classes[i]}: {acc} %')"
   ]
  },
  {
   "cell_type": "markdown",
   "metadata": {},
   "source": [
    "Testing on own image"
   ]
  },
  {
   "cell_type": "code",
   "execution_count": 7,
   "metadata": {},
   "outputs": [
    {
     "name": "stdout",
     "output_type": "stream",
     "text": [
      "torch.Size([3, 32, 32])\n",
      "input shape: torch.Size([3, 32, 32])\n",
      "output shape: torch.Size([1, 10])\n",
      "Prediction shape: torch.Size([1])\n",
      "Item Prediction: car\n"
     ]
    }
   ],
   "source": [
    "# OPEN IMAGE\n",
    "my_image_path = 'data/car.jpeg'\n",
    "my_image = Image.open(my_image_path)\n",
    "\n",
    "# CROP AND RESIZE TO 32X32\n",
    "left = (my_image.width - min(my_image.width, my_image.height)) / 2\n",
    "top = (my_image.height - min(my_image.width, my_image.height)) / 2\n",
    "right = (my_image.width + min(my_image.width, my_image.height)) / 2\n",
    "bottom = (my_image.height + min(my_image.width, my_image.height)) / 2\n",
    "my_image = my_image.crop((left, top, right, bottom))\n",
    "my_image = my_image.resize((32, 32))\n",
    "# my_image.show()\n",
    "\n",
    "# TRANSFORM TO TENSOR\n",
    "tensor_image = transform(my_image)\n",
    "print(tensor_image.shape)\n",
    "\n",
    "# FORWARD PASS THROUGH MODEL\n",
    "print(\"input shape:\", tensor_image.shape)\n",
    "my_output = model(tensor_image.unsqueeze(0))\n",
    "print(\"output shape:\", my_output.shape)\n",
    "# FIND MAX PREDICTION\n",
    "_, predicted = torch.max(my_output, 1)\n",
    "print(\"Prediction shape:\", predicted.shape)\n",
    "# MAP PREDICTION TO CLASS LABELS\n",
    "predicted_class = classes[predicted.item()]\n",
    "print(\"Item Prediction:\", predicted_class)"
   ]
  }
 ],
 "metadata": {
  "kernelspec": {
   "display_name": "temporal",
   "language": "python",
   "name": "python3"
  },
  "language_info": {
   "codemirror_mode": {
    "name": "ipython",
    "version": 3
   },
   "file_extension": ".py",
   "mimetype": "text/x-python",
   "name": "python",
   "nbconvert_exporter": "python",
   "pygments_lexer": "ipython3",
   "version": "3.10.13"
  }
 },
 "nbformat": 4,
 "nbformat_minor": 2
}
