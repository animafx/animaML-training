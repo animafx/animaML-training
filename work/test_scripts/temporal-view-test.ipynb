{
 "cells": [
  {
   "cell_type": "code",
   "execution_count": 12,
   "metadata": {},
   "outputs": [],
   "source": [
    "import cv2\n",
    "import numpy as np\n",
    "import matplotlib.pyplot as plt\n",
    "import os"
   ]
  },
  {
   "cell_type": "code",
   "execution_count": 3,
   "metadata": {},
   "outputs": [],
   "source": [
    "def crop_to_square(frame):\n",
    "    height, width, _ = frame.shape\n",
    "    min_dim = min(height, width)\n",
    "    start_x = (width - min_dim) // 2\n",
    "    start_y = (height - min_dim) // 2\n",
    "    end_x = start_x + min_dim\n",
    "    end_y = start_y + min_dim\n",
    "    return frame[start_y:end_y, start_x:end_x]"
   ]
  },
  {
   "cell_type": "code",
   "execution_count": 4,
   "metadata": {},
   "outputs": [],
   "source": [
    "def display_video(video_data):\n",
    "    for frame in video_data:\n",
    "        cv2.imshow('Video', frame)\n",
    "        if cv2.waitKey(25) & 0xFF == ord('q'):\n",
    "            break\n",
    "\n",
    "    cv2.destroyAllWindows()"
   ]
  },
  {
   "cell_type": "code",
   "execution_count": 10,
   "metadata": {},
   "outputs": [],
   "source": [
    "def generate_next_filename(base_name):\n",
    "    index = 1\n",
    "    while True:\n",
    "        new_filename = f\"{base_name}{index}\"\n",
    "        if not os.path.exists(new_filename):\n",
    "            return new_filename\n",
    "        index += 1"
   ]
  },
  {
   "cell_type": "code",
   "execution_count": 5,
   "metadata": {},
   "outputs": [],
   "source": [
    "def save_video(output_video_path, video_data, fps=30):\n",
    "    frame_height, frame_width, _ = video_data[0].shape\n",
    "    codec = cv2.VideoWriter_fourcc(*'avc1')\n",
    "    out = cv2.VideoWriter(output_video_path, codec, fps, (frame_width, frame_height))\n",
    "\n",
    "    for frame in video_data:\n",
    "        out.write(frame)\n",
    "\n",
    "    out.release()"
   ]
  },
  {
   "cell_type": "code",
   "execution_count": 6,
   "metadata": {},
   "outputs": [],
   "source": [
    "def load_video(video_path):\n",
    "    cap = cv2.VideoCapture(video_path)\n",
    "    frame_count = int(cap.get(cv2.CAP_PROP_FRAME_COUNT))\n",
    "    height = int(cap.get(cv2.CAP_PROP_FRAME_HEIGHT))\n",
    "    width = int(cap.get(cv2.CAP_PROP_FRAME_WIDTH))\n",
    "    \n",
    "    video_data = np.zeros((height, height, height, 3), dtype=np.uint8)\n",
    "    \n",
    "    for i in range(784):\n",
    "        ret, frame = cap.read()\n",
    "        if ret:\n",
    "            video_data[i] = crop_to_square(frame)\n",
    "        else:\n",
    "            break\n",
    "    \n",
    "    cap.release()\n",
    "    return video_data"
   ]
  },
  {
   "cell_type": "code",
   "execution_count": 7,
   "metadata": {},
   "outputs": [
    {
     "name": "stdout",
     "output_type": "stream",
     "text": [
      "(784, 784, 784, 3)\n"
     ]
    }
   ],
   "source": [
    "video_path = 'data/movieclip-1min.mp4'\n",
    "video_array = load_video(video_path)\n",
    "print(video_array.shape)"
   ]
  },
  {
   "cell_type": "code",
   "execution_count": 15,
   "metadata": {},
   "outputs": [],
   "source": [
    "reshaped_video = np.transpose(video_array, (2, 1, 0, 3))\n",
    "# display_video(reshaped_video)\n",
    "base_filename = 'data/outputs/output'\n",
    "next_filename = generate_next_filename(base_filename) + '.mp4'\n",
    "save_video(next_filename, reshaped_video)"
   ]
  },
  {
   "cell_type": "code",
   "execution_count": null,
   "metadata": {},
   "outputs": [],
   "source": []
  }
 ],
 "metadata": {
  "kernelspec": {
   "display_name": "temporal",
   "language": "python",
   "name": "python3"
  },
  "language_info": {
   "codemirror_mode": {
    "name": "ipython",
    "version": 3
   },
   "file_extension": ".py",
   "mimetype": "text/x-python",
   "name": "python",
   "nbconvert_exporter": "python",
   "pygments_lexer": "ipython3",
   "version": "3.10.13"
  }
 },
 "nbformat": 4,
 "nbformat_minor": 2
}
